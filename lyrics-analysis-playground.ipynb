{
 "cells": [
  {
   "cell_type": "code",
   "execution_count": 8,
   "metadata": {
    "collapsed": false,
    "deletable": true,
    "editable": true
   },
   "outputs": [],
   "source": [
    "import json\n",
    "import statistics as st\n",
    "import matplotlib.pyplot as plt"
   ]
  },
  {
   "cell_type": "code",
   "execution_count": 9,
   "metadata": {
    "collapsed": false
   },
   "outputs": [],
   "source": [
    "%matplotlib inline"
   ]
  },
  {
   "cell_type": "code",
   "execution_count": 10,
   "metadata": {
    "collapsed": true,
    "deletable": true,
    "editable": true
   },
   "outputs": [],
   "source": [
    "with open('speech-analysis_1997-2016.json') as f:\n",
    "    data = json.load(f)"
   ]
  },
  {
   "cell_type": "code",
   "execution_count": 11,
   "metadata": {
    "collapsed": true,
    "deletable": true,
    "editable": true
   },
   "outputs": [],
   "source": [
    "for year, yeardata in data.items():\n",
    "    year_avg_sum = 0\n",
    "    for month, monthdata in yeardata.items():\n",
    "        monthdata = [s for s in monthdata if s['lyrics'] is not None]\n",
    "        monthdata = [s for s in monthdata if s['lyrics']['sentiment'] is not None]\n",
    "        year_avg_sum += st.mean([s['lyrics']['sentiment'] for s in monthdata])\n",
    "    \n",
    "    yeardata['avg'] = year_avg_sum / 12.0"
   ]
  },
  {
   "cell_type": "code",
   "execution_count": 12,
   "metadata": {
    "collapsed": true,
    "deletable": true,
    "editable": true
   },
   "outputs": [],
   "source": [
    "avg_data = {year: round(yeardata['avg'], 4) for year, yeardata in data.items()}\n",
    "sorted_avg = sorted(avg_data.items())"
   ]
  },
  {
   "cell_type": "code",
   "execution_count": 13,
   "metadata": {
    "collapsed": false,
    "deletable": true,
    "editable": true
   },
   "outputs": [
    {
     "name": "stdout",
     "output_type": "stream",
     "text": [
      "[('1997', -0.0167), ('1998', -0.0483), ('1999', -0.0464), ('2000', 0.01), ('2001', -0.109), ('2002', -0.0849), ('2003', -0.0667), ('2004', -0.0642), ('2005', -0.0958), ('2006', -0.0452), ('2007', -0.0775), ('2008', -0.0868), ('2009', -0.0475), ('2010', 0.0356), ('2011', -0.1075), ('2012', -0.1469), ('2013', -0.0548), ('2014', -0.085), ('2015', -0.0439), ('2016', -0.1058)]\n"
     ]
    }
   ],
   "source": [
    "x, y = zip(*sorted_avg)\n",
    "print(sorted_avg)"
   ]
  },
  {
   "cell_type": "code",
   "execution_count": 14,
   "metadata": {
    "collapsed": false
   },
   "outputs": [
    {
     "data": {
      "text/plain": [
       "[<matplotlib.lines.Line2D at 0x7f95360f7978>]"
      ]
     },
     "execution_count": 14,
     "metadata": {},
     "output_type": "execute_result"
    },
    {
     "data": {
      "image/png": "[encoded data removed]",
      "text/plain": [
       "<matplotlib.figure.Figure at 0x7f95360f79b0>"
      ]
     },
     "metadata": {},
     "output_type": "display_data"
    }
   ],
   "source": [
    "plt.xticks(range(1997, 2017, 3))\n",
    "plt.axis([1997, 2016, -0.2, 0.2])\n",
    "plt.grid(alpha=0.5)\n",
    "plt.plot(x, y)"
   ]
  }
 ],
 "metadata": {
  "kernelspec": {
   "display_name": "Python 3",
   "language": "python",
   "name": "python3"
  },
  "language_info": {
   "codemirror_mode": {
    "name": "ipython",
    "version": 3
   },
   "file_extension": ".py",
   "mimetype": "text/x-python",
   "name": "python",
   "nbconvert_exporter": "python",
   "pygments_lexer": "ipython3",
   "version": "3.5.2"
  }
 },
 "nbformat": 4,
 "nbformat_minor": 2
}
